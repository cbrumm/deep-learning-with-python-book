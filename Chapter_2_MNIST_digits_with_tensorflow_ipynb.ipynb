{
  "nbformat": 4,
  "nbformat_minor": 0,
  "metadata": {
    "colab": {
      "provenance": [],
      "authorship_tag": "ABX9TyMIGiXgNnKcCXUF1yWlDUoy",
      "include_colab_link": true
    },
    "kernelspec": {
      "name": "python3",
      "display_name": "Python 3"
    },
    "language_info": {
      "name": "python"
    }
  },
  "cells": [
    {
      "cell_type": "markdown",
      "metadata": {
        "id": "view-in-github",
        "colab_type": "text"
      },
      "source": [
        "<a href=\"https://colab.research.google.com/github/cbrumm/deep-learning-with-python-book/blob/main/Chapter_2_MNIST_digits_with_tensorflow_ipynb.ipynb\" target=\"_parent\"><img src=\"https://colab.research.google.com/assets/colab-badge.svg\" alt=\"Open In Colab\"/></a>"
      ]
    },
    {
      "cell_type": "code",
      "execution_count": 4,
      "metadata": {
        "id": "rP9ANRHKNtgv"
      },
      "outputs": [],
      "source": [
        "import tensorflow as tf\n",
        "\n",
        "class NaiveDense:\n",
        "  \"\"\"Represents a densely connected layer of a network.\"\"\"\n",
        "\n",
        "\n",
        "  def __init__(self, input_size, output_size, activation):\n",
        "    self.activation = activation\n",
        "\n",
        "    w_shape = (input_size, output_size)\n",
        "    w_initial_value = tf.random.uniform(w_shape, minval=0, maxval=1e-1)\n",
        "    self.W = tf.Variable(w_initial_value)\n",
        "\n",
        "    b_initial_value = tf.zeros(output_size)\n",
        "    self.b = tf.Variable(b_initial_value)\n",
        "\n",
        "  def __call__(self, inputs):\n",
        "    \"\"\"Forward pass computing activation.\"\"\"\n",
        "    return self.activation(tf.matmul(inputs, self.W) + self.b)\n",
        "\n",
        "  @property\n",
        "  def weights(self):\n",
        "    return [self.W, self.b]\n",
        "\n",
        "class NaiveSequential:\n",
        "  \"\"\"Models a sequence of network layers.\"\"\"\n",
        "\n",
        "  def __init__(self, layers):\n",
        "    self.layers = layers\n",
        "\n",
        "  def __call__(self, inputs):\n",
        "    \"\"\"Implements the forward pass, calling layers in order.\"\"\"\n",
        "    x = inputs\n",
        "    for layer in self.layers:\n",
        "      x = layer(x)\n",
        "    return x\n",
        "\n",
        "  @property\n",
        "  def weights(self):\n",
        "    weights = []\n",
        "    for layer in self.layers:\n",
        "      # concatenate weight lists\n",
        "      weights += layer.weights\n",
        "    return weights"
      ]
    },
    {
      "cell_type": "code",
      "source": [
        "model = NaiveSequential([\n",
        "  NaiveDense(input_size=28*28, output_size=512, activation=tf.nn.relu),\n",
        "  NaiveDense(input_size=512, output_size=10, activation=tf.nn.softmax)\n",
        "])\n",
        "\n",
        "assert len(model.weights) == 4, \"expecting 2 layers with 2 weights (W and b)\""
      ],
      "metadata": {
        "id": "tYYdKYsJPHEM"
      },
      "execution_count": 5,
      "outputs": []
    },
    {
      "cell_type": "code",
      "source": [
        "class BatchGenerator:\n",
        "  \"\"\"Generates batches of data for training.\"\"\"\n",
        "\n",
        "  def __init__(self, images, labels, batch_size=128):\n",
        "    assert len(images) == len(labels), \"Need same number of tensors and labels\"\n",
        "    self.index = 0\n",
        "    self.images = images\n",
        "    self.labels = labels\n",
        "    self.batch_size = batch_size\n",
        "    self.num_batches = len(images) // batch_size\n",
        "\n",
        "  def next(self):\n",
        "    \"\"\"Returns the next batch of tenors and labels.\"\"\"\n",
        "    images = self.images[self.index : self.index + self.batch_size]\n",
        "    labels = self.labels[self.index : self.index + self.batch_size]\n",
        "    self.index += self.batch_size\n",
        "    return images, labels\n",
        "\n",
        "def one_training_step(model, images_batch, labels_batch):\n",
        "  \"\"\"Performs a single training step.\"\"\"\n",
        "  with tf.GradientTape() as tape:\n",
        "    predictions = model(images_batch)\n",
        "    per_sample_losses = tf.keras.losses.sparse_categorical_crossentropy(\n",
        "        labels_batch, predictions)\n",
        "    average_loss = tf.reduce_mean(per_sample_losses)\n",
        "\n",
        "  # Gradient of model.weights with respect to average_loss.\n",
        "  gradients = tape.gradient(average_loss, model.weights)\n",
        "  # Update model.weights in the direction indicated by gradient.\n",
        "  update_weights(gradients, model.weights)\n",
        "  return average_loss\n",
        "\n",
        "\n",
        "learning_rate = 1e-3\n",
        "\n",
        "\n",
        "# Ordinarily, we would use a Keras optimizer instance for weight updates.\n",
        "def update_weights(gradients, weights):\n",
        "  for gradient, weight in zip(gradients, weights):\n",
        "    # Substract from tensorflow variable.\n",
        "    weight.assign_sub(gradient * learning_rate)\n",
        "\n",
        "\n",
        "def fit(model, images, labels, epochs, batch_size=128):\n",
        "  \"\"\"Run |epochs| training steps going over the data batches for each epoch.\"\"\"\n",
        "  for epoch_counter in range(epochs):\n",
        "    print(f\"Epoch {epoch_counter}\")\n",
        "    batch_generator = BatchGenerator(images, labels, batch_size)\n",
        "    for batch_counter in range(batch_generator.num_batches):\n",
        "      images_batch, labels_batch = batch_generator.next()\n",
        "      loss = one_training_step(model, images_batch, labels_batch)\n",
        "      if batch_counter % 100 == 0:\n",
        "        print(f\"loss at batch {batch_counter}: {loss:.2f}\")"
      ],
      "metadata": {
        "id": "0qar8rb2Pf5x"
      },
      "execution_count": 6,
      "outputs": []
    },
    {
      "cell_type": "code",
      "source": [
        "from tensorflow.keras.datasets import mnist\n",
        "(train_images, train_labels), (test_images, test_labels) = mnist.load_data()\n",
        "\n",
        "train_images = train_images.reshape((60000, 28 * 28))\n",
        "train_images = train_images.astype('float32') / 255\n",
        "test_images = test_images.reshape((10000, 28 * 28))\n",
        "test_images = test_images.astype('float32') / 255\n",
        "\n",
        "fit(model, train_images, train_labels, epochs=10, batch_size=128)"
      ],
      "metadata": {
        "colab": {
          "base_uri": "https://localhost:8080/"
        },
        "id": "Bb6s1vRFRPTD",
        "outputId": "3d48c10e-6c27-4ed0-b53e-9c90205983f9"
      },
      "execution_count": 7,
      "outputs": [
        {
          "output_type": "stream",
          "name": "stdout",
          "text": [
            "Downloading data from https://storage.googleapis.com/tensorflow/tf-keras-datasets/mnist.npz\n",
            "11490434/11490434 [==============================] - 0s 0us/step\n",
            "Epoch 0\n",
            "loss at batch 0: 5.33\n",
            "loss at batch 100: 2.24\n",
            "loss at batch 200: 2.20\n",
            "loss at batch 300: 2.06\n",
            "loss at batch 400: 2.22\n",
            "Epoch 1\n",
            "loss at batch 0: 1.90\n",
            "loss at batch 100: 1.88\n",
            "loss at batch 200: 1.83\n",
            "loss at batch 300: 1.69\n",
            "loss at batch 400: 1.84\n",
            "Epoch 2\n",
            "loss at batch 0: 1.56\n",
            "loss at batch 100: 1.58\n",
            "loss at batch 200: 1.51\n",
            "loss at batch 300: 1.40\n",
            "loss at batch 400: 1.53\n",
            "Epoch 3\n",
            "loss at batch 0: 1.29\n",
            "loss at batch 100: 1.34\n",
            "loss at batch 200: 1.24\n",
            "loss at batch 300: 1.19\n",
            "loss at batch 400: 1.29\n",
            "Epoch 4\n",
            "loss at batch 0: 1.08\n",
            "loss at batch 100: 1.16\n",
            "loss at batch 200: 1.04\n",
            "loss at batch 300: 1.03\n",
            "loss at batch 400: 1.13\n",
            "Epoch 5\n",
            "loss at batch 0: 0.94\n",
            "loss at batch 100: 1.02\n",
            "loss at batch 200: 0.90\n",
            "loss at batch 300: 0.92\n",
            "loss at batch 400: 1.00\n",
            "Epoch 6\n",
            "loss at batch 0: 0.83\n",
            "loss at batch 100: 0.91\n",
            "loss at batch 200: 0.80\n",
            "loss at batch 300: 0.83\n",
            "loss at batch 400: 0.91\n",
            "Epoch 7\n",
            "loss at batch 0: 0.75\n",
            "loss at batch 100: 0.83\n",
            "loss at batch 200: 0.72\n",
            "loss at batch 300: 0.76\n",
            "loss at batch 400: 0.84\n",
            "Epoch 8\n",
            "loss at batch 0: 0.69\n",
            "loss at batch 100: 0.76\n",
            "loss at batch 200: 0.66\n",
            "loss at batch 300: 0.70\n",
            "loss at batch 400: 0.79\n",
            "Epoch 9\n",
            "loss at batch 0: 0.64\n",
            "loss at batch 100: 0.70\n",
            "loss at batch 200: 0.61\n",
            "loss at batch 300: 0.66\n",
            "loss at batch 400: 0.74\n"
          ]
        }
      ]
    },
    {
      "cell_type": "code",
      "source": [
        "import numpy as np\n",
        "\n",
        "predictions = model(test_images)\n",
        "predictions = predictions.numpy()\n",
        "predicted_labels = np.argmax(predictions, axis=1)\n",
        "matches = predicted_labels == test_labels\n",
        "print(f\"accuracy: {matches.mean():.2f}\")"
      ],
      "metadata": {
        "colab": {
          "base_uri": "https://localhost:8080/"
        },
        "id": "1lZqYxW0R3vM",
        "outputId": "6336f12a-e635-4404-ae3b-e4e6408054fc"
      },
      "execution_count": 8,
      "outputs": [
        {
          "output_type": "stream",
          "name": "stdout",
          "text": [
            "accuracy: 0.83\n"
          ]
        }
      ]
    }
  ]
}